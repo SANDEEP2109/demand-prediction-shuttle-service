{
 "cells": [
  {
   "cell_type": "code",
   "execution_count": 3,
   "id": "bcbd35c1",
   "metadata": {},
   "outputs": [
    {
     "data": {
      "text/html": [
       "<div>\n",
       "<style scoped>\n",
       "    .dataframe tbody tr th:only-of-type {\n",
       "        vertical-align: middle;\n",
       "    }\n",
       "\n",
       "    .dataframe tbody tr th {\n",
       "        vertical-align: top;\n",
       "    }\n",
       "\n",
       "    .dataframe thead th {\n",
       "        text-align: right;\n",
       "    }\n",
       "</style>\n",
       "<table border=\"1\" class=\"dataframe\">\n",
       "  <thead>\n",
       "    <tr style=\"text-align: right;\">\n",
       "      <th></th>\n",
       "      <th>timestamp</th>\n",
       "      <th>Zone_ID</th>\n",
       "      <th>number_of_requests</th>\n",
       "      <th>hour_of_day</th>\n",
       "      <th>day_of_week</th>\n",
       "      <th>is_weekend</th>\n",
       "    </tr>\n",
       "  </thead>\n",
       "  <tbody>\n",
       "    <tr>\n",
       "      <th>0</th>\n",
       "      <td>2024-12-31 20:30:00</td>\n",
       "      <td>48</td>\n",
       "      <td>1</td>\n",
       "      <td>20</td>\n",
       "      <td>1</td>\n",
       "      <td>False</td>\n",
       "    </tr>\n",
       "    <tr>\n",
       "      <th>1</th>\n",
       "      <td>2024-12-31 20:30:00</td>\n",
       "      <td>246</td>\n",
       "      <td>1</td>\n",
       "      <td>20</td>\n",
       "      <td>1</td>\n",
       "      <td>False</td>\n",
       "    </tr>\n",
       "    <tr>\n",
       "      <th>2</th>\n",
       "      <td>2024-12-31 20:30:00</td>\n",
       "      <td>249</td>\n",
       "      <td>1</td>\n",
       "      <td>20</td>\n",
       "      <td>1</td>\n",
       "      <td>False</td>\n",
       "    </tr>\n",
       "    <tr>\n",
       "      <th>3</th>\n",
       "      <td>2024-12-31 21:00:00</td>\n",
       "      <td>42</td>\n",
       "      <td>1</td>\n",
       "      <td>21</td>\n",
       "      <td>1</td>\n",
       "      <td>False</td>\n",
       "    </tr>\n",
       "    <tr>\n",
       "      <th>4</th>\n",
       "      <td>2024-12-31 21:00:00</td>\n",
       "      <td>141</td>\n",
       "      <td>1</td>\n",
       "      <td>21</td>\n",
       "      <td>1</td>\n",
       "      <td>False</td>\n",
       "    </tr>\n",
       "  </tbody>\n",
       "</table>\n",
       "</div>"
      ],
      "text/plain": [
       "            timestamp  Zone_ID  number_of_requests  hour_of_day  day_of_week  \\\n",
       "0 2024-12-31 20:30:00       48                   1           20            1   \n",
       "1 2024-12-31 20:30:00      246                   1           20            1   \n",
       "2 2024-12-31 20:30:00      249                   1           20            1   \n",
       "3 2024-12-31 21:00:00       42                   1           21            1   \n",
       "4 2024-12-31 21:00:00      141                   1           21            1   \n",
       "\n",
       "   is_weekend  \n",
       "0       False  \n",
       "1       False  \n",
       "2       False  \n",
       "3       False  \n",
       "4       False  "
      ]
     },
     "execution_count": 3,
     "metadata": {},
     "output_type": "execute_result"
    }
   ],
   "source": [
    "import pandas as pd\n",
    "from sklearn.model_selection import train_test_split\n",
    "from sklearn.ensemble import RandomForestRegressor\n",
    "from sklearn.metrics import accuracy_score, mean_absolute_error, root_mean_squared_error\n",
    "\n",
    "data = pd.read_parquet(r\"C:\\Users\\sande\\Desktop\\NOTEBOOK JUPYTER\\model_ready_trip_data.parquet\")\n",
    "\n",
    "\n",
    "data = data.sort_values(by='timestamp')\n",
    "data.head()"
   ]
  },
  {
   "cell_type": "code",
   "execution_count": 4,
   "id": "fa89c23a",
   "metadata": {},
   "outputs": [],
   "source": [
    "features = ['Zone_ID', 'hour_of_day', 'day_of_week', 'is_weekend']\n",
    "target = 'number_of_requests'\n",
    "\n",
    "split_point = int(len(data) * 0.8)\n",
    "train_df = data.iloc[:split_point]\n",
    "test_df = data.iloc[split_point:]"
   ]
  },
  {
   "cell_type": "code",
   "execution_count": 5,
   "id": "cb60a050",
   "metadata": {},
   "outputs": [],
   "source": [
    "X_train = train_df[features]\n",
    "y_train = train_df[target]\n",
    "X_test = test_df[features]\n",
    "y_test = test_df[target]"
   ]
  },
  {
   "cell_type": "code",
   "execution_count": 6,
   "id": "215fc650",
   "metadata": {},
   "outputs": [
    {
     "name": "stdout",
     "output_type": "stream",
     "text": [
      "Training data has 125088 rows.\n",
      "Testing data has 31272 rows.\n"
     ]
    }
   ],
   "source": [
    "print(f\"Training data has {len(X_train)} rows.\")\n",
    "print(f\"Testing data has {len(X_test)} rows.\")"
   ]
  },
  {
   "cell_type": "code",
   "execution_count": 7,
   "id": "b2c23bb5",
   "metadata": {},
   "outputs": [],
   "source": [
    "model = RandomForestRegressor(n_estimators=100, random_state=42, n_jobs=-1)"
   ]
  },
  {
   "cell_type": "code",
   "execution_count": 8,
   "id": "1bdcaa95",
   "metadata": {},
   "outputs": [
    {
     "name": "stdout",
     "output_type": "stream",
     "text": [
      "Model training complete!\n"
     ]
    }
   ],
   "source": [
    "model.fit(X_train, y_train)\n",
    "print(\"Model training complete!\")"
   ]
  },
  {
   "cell_type": "code",
   "execution_count": 9,
   "id": "54c44882",
   "metadata": {},
   "outputs": [
    {
     "name": "stdout",
     "output_type": "stream",
     "text": [
      "\n",
      "Making predictions on the test set...\n",
      "[40.43738159  1.51938889  1.06977778  3.48306999  2.42559957]\n"
     ]
    }
   ],
   "source": [
    "print(\"\\nMaking predictions on the test set...\")\n",
    "predictions = model.predict(X_test)\n",
    "print(predictions[:5])\n"
   ]
  },
  {
   "cell_type": "code",
   "execution_count": 10,
   "id": "8d48d1db",
   "metadata": {},
   "outputs": [],
   "source": [
    "mae = mean_absolute_error(y_test, predictions)\n",
    "rmse = root_mean_squared_error(y_test, predictions)"
   ]
  },
  {
   "cell_type": "code",
   "execution_count": 11,
   "id": "1576a3f5",
   "metadata": {},
   "outputs": [
    {
     "name": "stdout",
     "output_type": "stream",
     "text": [
      "\n",
      "--- Model Evaluation Results ---\n",
      "Mean Absolute Error (MAE): 5.25\n",
      "Root Mean Squared Error (RMSE): 11.65\n",
      "\n",
      "Interpretation: On average, the model's predictions are off by approximately 5.25 ride requests.\n"
     ]
    }
   ],
   "source": [
    "print(\"\\n--- Model Evaluation Results ---\")\n",
    "print(f\"Mean Absolute Error (MAE): {mae:.2f}\")\n",
    "print(f\"Root Mean Squared Error (RMSE): {rmse:.2f}\")\n",
    "print(\"\\nInterpretation: On average, the model's predictions are off by approximately \" f\"{mae:.2f} ride requests.\")"
   ]
  },
  {
   "cell_type": "code",
   "execution_count": 16,
   "id": "a3946e3f",
   "metadata": {},
   "outputs": [
    {
     "name": "stdout",
     "output_type": "stream",
     "text": [
      "[1.00666667]\n"
     ]
    }
   ],
   "source": [
    "import pandas as pd \n",
    "\n",
    "day_mapping = {'Monday': {'day_of_week':0, 'is_weekend':False},\n",
    "               'Tuesday': {'day_of_week':1, 'is_weekend':False},\n",
    "                'Wednesday': {'day_of_week':2, 'is_weekend':False},\n",
    "                'Thursday': {'day_of_week':3, 'is_weekend':False},\n",
    "                'Friday': {'day_of_week':4, 'is_weekend':False},\n",
    "                'Saturday': {'day_of_week':5, 'is_weekend':True},\n",
    "                'Sunday': {'day_of_week':6, 'is_weekend':True}}\n",
    "\n",
    "zone_id = input(\"enter the zone id: \")\n",
    "hour = input(\"enter the hour of the day: \")\n",
    "day = input(\"enter the day of the week: \")\n",
    "\n",
    "zoneid = int(zone_id)\n",
    "hours = int(hour)\n",
    "day_info = day_mapping.get(day.title())\n",
    "\n",
    "input_data = {\n",
    "    'Zone_ID' : [zoneid],\n",
    "    'hour_of_day' : [hours],\n",
    "    'day_of_week' : [day_info['day_of_week']],\n",
    "    'is_weekend' : [day_info['is_weekend']]\n",
    "}\n",
    "\n",
    "inputdf = pd.DataFrame(input_data)\n",
    "\n",
    "prediction = model.predict(inputdf)\n",
    "print(prediction)\n"
   ]
  },
  {
   "cell_type": "code",
   "execution_count": null,
   "id": "dc6c5ccc",
   "metadata": {},
   "outputs": [
    {
     "data": {
      "image/png": "[encoded data removed]",
      "text/plain": [
       "<Figure size 800x400 with 1 Axes>"
      ]
     },
     "metadata": {},
     "output_type": "display_data"
    }
   ],
   "source": [
    "import matplotlib.pyplot as plt \n",
    "import seaborn as sns \n",
    "\n",
    "plt.figure(figsize=(8,4))\n",
    "sns.histplot(data['number_of_requests'], bins=30, kde=True)\n",
    "plt.show()"
   ]
  },
  {
   "cell_type": "code",
   "execution_count": 16,
   "id": "4800f6a0",
   "metadata": {},
   "outputs": [
    {
     "name": "stdout",
     "output_type": "stream",
     "text": [
      "[np.int32(1), np.int32(2), np.int32(3), np.int32(4), np.int32(5), np.int32(6), np.int32(7), np.int32(8), np.int32(9), np.int32(10), np.int32(11), np.int32(12), np.int32(13), np.int32(14), np.int32(15), np.int32(16), np.int32(17), np.int32(18), np.int32(19), np.int32(20), np.int32(21), np.int32(22), np.int32(23), np.int32(24), np.int32(25), np.int32(26), np.int32(27), np.int32(28), np.int32(29), np.int32(30), np.int32(31), np.int32(32), np.int32(33), np.int32(34), np.int32(35), np.int32(36), np.int32(37), np.int32(38), np.int32(39), np.int32(40), np.int32(41), np.int32(42), np.int32(43), np.int32(44), np.int32(45), np.int32(46), np.int32(47), np.int32(48), np.int32(49), np.int32(50), np.int32(51), np.int32(52), np.int32(53), np.int32(54), np.int32(55), np.int32(56), np.int32(57), np.int32(58), np.int32(59), np.int32(60), np.int32(61), np.int32(62), np.int32(63), np.int32(64), np.int32(65), np.int32(66), np.int32(67), np.int32(68), np.int32(69), np.int32(70), np.int32(71), np.int32(72), np.int32(73), np.int32(74), np.int32(75), np.int32(76), np.int32(77), np.int32(78), np.int32(79), np.int32(80), np.int32(81), np.int32(82), np.int32(83), np.int32(84), np.int32(85), np.int32(86), np.int32(87), np.int32(88), np.int32(89), np.int32(90), np.int32(91), np.int32(92), np.int32(93), np.int32(94), np.int32(95), np.int32(96), np.int32(97), np.int32(98), np.int32(99), np.int32(100), np.int32(101), np.int32(102), np.int32(106), np.int32(107), np.int32(108), np.int32(109), np.int32(111), np.int32(112), np.int32(113), np.int32(114), np.int32(115), np.int32(116), np.int32(117), np.int32(118), np.int32(119), np.int32(120), np.int32(121), np.int32(122), np.int32(123), np.int32(124), np.int32(125), np.int32(126), np.int32(127), np.int32(128), np.int32(129), np.int32(130), np.int32(131), np.int32(132), np.int32(133), np.int32(134), np.int32(135), np.int32(136), np.int32(137), np.int32(138), np.int32(139), np.int32(140), np.int32(141), np.int32(142), np.int32(143), np.int32(144), np.int32(145), np.int32(146), np.int32(147), np.int32(148), np.int32(149), np.int32(150), np.int32(151), np.int32(152), np.int32(153), np.int32(154), np.int32(155), np.int32(156), np.int32(157), np.int32(158), np.int32(159), np.int32(160), np.int32(161), np.int32(162), np.int32(163), np.int32(164), np.int32(165), np.int32(166), np.int32(167), np.int32(168), np.int32(169), np.int32(170), np.int32(171), np.int32(172), np.int32(173), np.int32(174), np.int32(175), np.int32(176), np.int32(177), np.int32(178), np.int32(179), np.int32(180), np.int32(181), np.int32(182), np.int32(183), np.int32(184), np.int32(185), np.int32(186), np.int32(187), np.int32(188), np.int32(189), np.int32(190), np.int32(191), np.int32(192), np.int32(193), np.int32(194), np.int32(195), np.int32(196), np.int32(197), np.int32(198), np.int32(199), np.int32(200), np.int32(201), np.int32(202), np.int32(203), np.int32(204), np.int32(205), np.int32(206), np.int32(207), np.int32(208), np.int32(209), np.int32(210), np.int32(211), np.int32(212), np.int32(213), np.int32(214), np.int32(215), np.int32(216), np.int32(217), np.int32(218), np.int32(219), np.int32(220), np.int32(221), np.int32(222), np.int32(223), np.int32(224), np.int32(225), np.int32(226), np.int32(227), np.int32(228), np.int32(229), np.int32(230), np.int32(231), np.int32(232), np.int32(233), np.int32(234), np.int32(235), np.int32(236), np.int32(237), np.int32(238), np.int32(239), np.int32(240), np.int32(241), np.int32(242), np.int32(243), np.int32(244), np.int32(245), np.int32(246), np.int32(247), np.int32(248), np.int32(249), np.int32(250), np.int32(251), np.int32(252), np.int32(253), np.int32(254), np.int32(255), np.int32(256), np.int32(257), np.int32(258), np.int32(259), np.int32(260), np.int32(261), np.int32(262), np.int32(263), np.int32(264), np.int32(265)]\n",
      "Zone_ID\n",
      "48     1488\n",
      "186    1487\n",
      "230    1486\n",
      "79     1484\n",
      "132    1483\n",
      "       ... \n",
      "176       2\n",
      "187       2\n",
      "99        1\n",
      "199       1\n",
      "84        1\n",
      "Name: count, Length: 261, dtype: int64\n"
     ]
    }
   ],
   "source": [
    "numbers = data['Zone_ID'].unique()\n",
    "print(sorted(numbers))\n",
    "counts = data['Zone_ID'].value_counts()\n",
    "print(counts)"
   ]
  },
  {
   "cell_type": "code",
   "execution_count": null,
   "id": "de8b7bec",
   "metadata": {},
   "outputs": [],
   "source": []
  }
 ],
 "metadata": {
  "kernelspec": {
   "display_name": "base",
   "language": "python",
   "name": "python3"
  },
  "language_info": {
   "codemirror_mode": {
    "name": "ipython",
    "version": 3
   },
   "file_extension": ".py",
   "mimetype": "text/x-python",
   "name": "python",
   "nbconvert_exporter": "python",
   "pygments_lexer": "ipython3",
   "version": "3.12.7"
  }
 },
 "nbformat": 4,
 "nbformat_minor": 5
}
